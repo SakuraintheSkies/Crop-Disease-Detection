{
 "cells": [
  {
   "cell_type": "code",
   "execution_count": 1,
   "id": "7b1bc699-30df-4498-81f1-1aaff6033757",
   "metadata": {},
   "outputs": [],
   "source": [
    "import tensorflow as tf\n",
    "import matplotlib as plt\n",
    "import pandas as pd\n",
    "import seaborn as sns"
   ]
  },
  {
   "cell_type": "code",
   "execution_count": 2,
   "id": "05f95d0b-5ec1-47cc-9301-cc38252921a9",
   "metadata": {},
   "outputs": [
    {
     "name": "stdout",
     "output_type": "stream",
     "text": [
      "Found 3761 files belonging to 7 classes.\n"
     ]
    }
   ],
   "source": [
    "training_set=tf.keras.utils.image_dataset_from_directory(\n",
    "    \"train\",\n",
    "    labels=\"inferred\",\n",
    "    label_mode=\"categorical\",\n",
    "    class_names=None,\n",
    "    color_mode=\"rgb\",\n",
    "    batch_size=32,\n",
    "    image_size=(128,128),\n",
    "    shuffle=True,\n",
    "    seed=None,\n",
    "    validation_split=None,\n",
    "    subset=None,\n",
    "    interpolation=\"bilinear\",\n",
    "    follow_links=False,\n",
    "    crop_to_aspect_ratio=False,\n",
    ")"
   ]
  },
  {
   "cell_type": "code",
   "execution_count": 3,
   "id": "503d981f-66cd-4e61-bf25-f6bfc36e8aec",
   "metadata": {},
   "outputs": [
    {
     "name": "stdout",
     "output_type": "stream",
     "text": [
      "Found 3762 files belonging to 7 classes.\n"
     ]
    }
   ],
   "source": [
    "validation_set=tf.keras.utils.image_dataset_from_directory(\n",
    "    \"valid\",\n",
    "    labels=\"inferred\",\n",
    "    label_mode=\"categorical\",\n",
    "    class_names=None,\n",
    "    color_mode=\"rgb\",\n",
    "    batch_size=32,\n",
    "    image_size=(128,128),\n",
    "    shuffle=True,\n",
    "    seed=None,\n",
    "    validation_split=None,\n",
    "    subset=None,\n",
    "    interpolation=\"bilinear\",\n",
    "    follow_links=False,\n",
    "    crop_to_aspect_ratio=False,\n",
    ")"
   ]
  },
  {
   "cell_type": "code",
   "execution_count": 4,
   "id": "9872724b-2184-42b6-a70c-abcf6977c1eb",
   "metadata": {},
   "outputs": [
    {
     "data": {
      "text/plain": [
       "<_PrefetchDataset element_spec=(TensorSpec(shape=(None, 128, 128, 3), dtype=tf.float32, name=None), TensorSpec(shape=(None, 7), dtype=tf.float32, name=None))>"
      ]
     },
     "execution_count": 4,
     "metadata": {},
     "output_type": "execute_result"
    }
   ],
   "source": [
    "training_set\n"
   ]
  },
  {
   "cell_type": "code",
   "execution_count": 5,
   "id": "e8c14af5-5be8-4c19-b3f1-ea9535ce9d6b",
   "metadata": {},
   "outputs": [
    {
     "name": "stdout",
     "output_type": "stream",
     "text": [
      "tf.Tensor(\n",
      "[[[[ 85.         43.         21.       ]\n",
      "   [ 83.37891    41.98047    19.980469 ]\n",
      "   [ 95.11984    51.119843   25.51828  ]\n",
      "   ...\n",
      "   [ 67.90234    29.902344   16.902344 ]\n",
      "   [ 59.59378    25.59378    15.5937805]\n",
      "   [ 53.         23.         12.       ]]\n",
      "\n",
      "  [[ 87.27347    45.273468   23.273468 ]\n",
      "   [ 86.         44.         20.       ]\n",
      "   [ 86.69141    44.10547    20.300781 ]\n",
      "   ...\n",
      "   [ 76.43735    34.437347   20.437347 ]\n",
      "   [ 75.80469    33.804688   19.804688 ]\n",
      "   [ 72.46484    30.464844   18.464844 ]]\n",
      "\n",
      "  [[101.01047    55.010468   29.010468 ]\n",
      "   [101.00015    57.000153   28.000153 ]\n",
      "   [105.30859    58.308594   30.308594 ]\n",
      "   ...\n",
      "   [ 88.306244   41.306244   23.306244 ]\n",
      "   [ 86.         40.         24.       ]\n",
      "   [ 81.997345   35.997345   19.997345 ]]\n",
      "\n",
      "  ...\n",
      "\n",
      "  [[ 41.348907   80.385315  109.39328  ]\n",
      "   [ 45.90204    75.90204   103.90204  ]\n",
      "   [ 33.603912   68.99765   105.30078  ]\n",
      "   ...\n",
      "   [212.40625   228.51642   238.22891  ]\n",
      "   [ 20.027954   41.899353   80.914825 ]\n",
      "   [ 36.119995   66.82562   104.82562  ]]\n",
      "\n",
      "  [[ 53.660095   86.265564  114.203    ]\n",
      "   [167.70758   191.22302   205.03961  ]\n",
      "   [ 49.058594   93.59015   134.33609  ]\n",
      "   ...\n",
      "   [ 89.88687   110.612976  143.37094  ]\n",
      "   [179.30814   198.36292   212.94885  ]\n",
      "   [173.43744   210.98044   230.14056  ]]\n",
      "\n",
      "  [[ 67.62891   102.96875   123.64844  ]\n",
      "   [ 28.15625    69.00778   107.38669  ]\n",
      "   [ 78.24094   107.07672   128.79813  ]\n",
      "   ...\n",
      "   [211.32297   227.96109   236.86343  ]\n",
      "   [ 45.781372   66.85568    96.62906  ]\n",
      "   [166.46484   195.8711    214.67578  ]]]\n",
      "\n",
      "\n",
      " [[[236.5       236.5       228.5      ]\n",
      "   [236.5       236.5       228.5      ]\n",
      "   [236.5       236.5       228.5      ]\n",
      "   ...\n",
      "   [255.        252.        243.       ]\n",
      "   [255.        252.        243.       ]\n",
      "   [255.        252.        243.       ]]\n",
      "\n",
      "  [[237.        237.        229.       ]\n",
      "   [237.        237.        229.       ]\n",
      "   [237.        237.        229.       ]\n",
      "   ...\n",
      "   [255.        252.        243.       ]\n",
      "   [255.        252.        243.       ]\n",
      "   [255.        252.        243.       ]]\n",
      "\n",
      "  [[238.        238.        230.       ]\n",
      "   [238.        238.        230.       ]\n",
      "   [238.        238.        230.       ]\n",
      "   ...\n",
      "   [255.        252.        243.       ]\n",
      "   [255.        252.        243.       ]\n",
      "   [255.        252.        243.       ]]\n",
      "\n",
      "  ...\n",
      "\n",
      "  [[207.75      203.75      200.75     ]\n",
      "   [209.5       205.5       202.5      ]\n",
      "   [209.25      205.25      202.25     ]\n",
      "   ...\n",
      "   [239.        236.        227.       ]\n",
      "   [239.        236.        227.       ]\n",
      "   [239.        236.        227.       ]]\n",
      "\n",
      "  [[207.5       203.5       200.5      ]\n",
      "   [208.25      204.25      201.25     ]\n",
      "   [208.5       204.5       201.5      ]\n",
      "   ...\n",
      "   [239.        236.        227.       ]\n",
      "   [239.        236.        227.       ]\n",
      "   [239.        236.        227.       ]]\n",
      "\n",
      "  [[205.75      201.75      198.75     ]\n",
      "   [205.5       201.5       198.5      ]\n",
      "   [206.75      202.75      199.75     ]\n",
      "   ...\n",
      "   [239.        236.        227.       ]\n",
      "   [239.        236.        227.       ]\n",
      "   [239.        236.        227.       ]]]\n",
      "\n",
      "\n",
      " [[[199.5       196.5       181.5      ]\n",
      "   [198.25      195.25      180.25     ]\n",
      "   [198.75      195.75      180.75     ]\n",
      "   ...\n",
      "   [225.        227.        216.       ]\n",
      "   [225.        227.        216.       ]\n",
      "   [225.        227.        216.       ]]\n",
      "\n",
      "  [[199.75      196.75      181.75     ]\n",
      "   [199.5       196.5       181.5      ]\n",
      "   [200.        197.        182.       ]\n",
      "   ...\n",
      "   [225.        227.        216.       ]\n",
      "   [225.        227.        216.       ]\n",
      "   [225.        227.        216.       ]]\n",
      "\n",
      "  [[199.5       196.5       181.5      ]\n",
      "   [201.        198.        183.       ]\n",
      "   [201.5       198.5       183.5      ]\n",
      "   ...\n",
      "   [225.        227.        216.       ]\n",
      "   [225.        227.        216.       ]\n",
      "   [225.        227.        216.       ]]\n",
      "\n",
      "  ...\n",
      "\n",
      "  [[167.        160.        142.       ]\n",
      "   [167.        160.        142.       ]\n",
      "   [167.        160.        141.       ]\n",
      "   ...\n",
      "   [223.        224.        216.       ]\n",
      "   [223.        224.        216.       ]\n",
      "   [223.        224.        216.       ]]\n",
      "\n",
      "  [[166.        159.        141.       ]\n",
      "   [166.        159.        140.       ]\n",
      "   [166.        159.        140.       ]\n",
      "   ...\n",
      "   [223.        224.        216.       ]\n",
      "   [223.        224.        216.       ]\n",
      "   [223.        224.        216.       ]]\n",
      "\n",
      "  [[165.5       158.5       139.5      ]\n",
      "   [165.5       158.5       139.5      ]\n",
      "   [165.5       158.5       139.5      ]\n",
      "   ...\n",
      "   [223.        224.        216.       ]\n",
      "   [223.        224.        216.       ]\n",
      "   [223.        224.        216.       ]]]\n",
      "\n",
      "\n",
      " ...\n",
      "\n",
      "\n",
      " [[[225.5       231.5       253.5      ]\n",
      "   [227.75      233.75      255.       ]\n",
      "   [228.75      234.75      255.       ]\n",
      "   ...\n",
      "   [207.5       212.5       250.5      ]\n",
      "   [207.5       212.5       250.5      ]\n",
      "   [206.5       211.5       249.5      ]]\n",
      "\n",
      "  [[226.25      232.25      254.25     ]\n",
      "   [224.75      230.75      252.75     ]\n",
      "   [225.        231.        253.       ]\n",
      "   ...\n",
      "   [206.        211.        249.       ]\n",
      "   [206.        211.        249.       ]\n",
      "   [206.5       211.5       249.5      ]]\n",
      "\n",
      "  [[227.        233.        254.75     ]\n",
      "   [225.        231.        253.       ]\n",
      "   [224.75      230.75      252.75     ]\n",
      "   ...\n",
      "   [208.        213.        251.       ]\n",
      "   [208.        213.        251.       ]\n",
      "   [210.        215.        253.       ]]\n",
      "\n",
      "  ...\n",
      "\n",
      "  [[225.5       237.5       253.5      ]\n",
      "   [229.75      241.75      255.       ]\n",
      "   [228.25      240.25      255.       ]\n",
      "   ...\n",
      "   [214.        220.25      243.75     ]\n",
      "   [214.5       220.        232.5      ]\n",
      "   [211.75      217.        221.75     ]]\n",
      "\n",
      "  [[226.5       238.5       254.25     ]\n",
      "   [228.25      240.25      255.       ]\n",
      "   [229.5       241.5       255.       ]\n",
      "   ...\n",
      "   [207.25      217.75      252.25     ]\n",
      "   [210.        219.        248.       ]\n",
      "   [209.25      218.75      244.75     ]]\n",
      "\n",
      "  [[230.5       242.5       255.       ]\n",
      "   [226.25      238.25      254.25     ]\n",
      "   [228.        240.        255.       ]\n",
      "   ...\n",
      "   [203.5       218.        251.       ]\n",
      "   [204.75      218.75      250.25     ]\n",
      "   [206.        220.25      251.       ]]]\n",
      "\n",
      "\n",
      " [[[252.        253.        245.       ]\n",
      "   [252.        253.        245.       ]\n",
      "   [252.        253.        245.       ]\n",
      "   ...\n",
      "   [232.25      229.25      224.25     ]\n",
      "   [232.25      229.25      224.25     ]\n",
      "   [233.25      230.25      225.25     ]]\n",
      "\n",
      "  [[252.        253.        245.       ]\n",
      "   [252.        253.        245.       ]\n",
      "   [252.        253.        245.       ]\n",
      "   ...\n",
      "   [233.75      230.75      225.75     ]\n",
      "   [233.75      230.75      225.75     ]\n",
      "   [234.75      231.75      226.75     ]]\n",
      "\n",
      "  [[252.        253.        245.       ]\n",
      "   [252.        253.        245.       ]\n",
      "   [252.        253.        245.       ]\n",
      "   ...\n",
      "   [233.75      230.75      225.75     ]\n",
      "   [233.75      230.75      225.75     ]\n",
      "   [234.75      231.75      226.75     ]]\n",
      "\n",
      "  ...\n",
      "\n",
      "  [[229.        229.        221.       ]\n",
      "   [229.        229.        221.       ]\n",
      "   [229.        229.        221.       ]\n",
      "   ...\n",
      "   [185.        186.        180.       ]\n",
      "   [182.75      183.75      177.75     ]\n",
      "   [183.        184.        178.       ]]\n",
      "\n",
      "  [[228.        228.        220.       ]\n",
      "   [228.        228.        220.       ]\n",
      "   [228.        228.        220.       ]\n",
      "   ...\n",
      "   [182.5       183.5       177.5      ]\n",
      "   [180.5       181.5       175.5      ]\n",
      "   [178.75      179.75      173.75     ]]\n",
      "\n",
      "  [[227.5       227.5       219.5      ]\n",
      "   [227.5       227.5       219.5      ]\n",
      "   [227.5       227.5       219.5      ]\n",
      "   ...\n",
      "   [179.75      180.75      174.75     ]\n",
      "   [177.        178.        172.       ]\n",
      "   [174.5       175.5       169.5      ]]]\n",
      "\n",
      "\n",
      " [[[229.        236.        246.       ]\n",
      "   [227.5       234.5       244.5      ]\n",
      "   [227.        234.        244.       ]\n",
      "   ...\n",
      "   [128.25      106.         85.75     ]\n",
      "   [141.        123.        113.25     ]\n",
      "   [160.5       145.25      140.25     ]]\n",
      "\n",
      "  [[228.25      235.25      245.25     ]\n",
      "   [228.        235.        245.       ]\n",
      "   [227.25      234.25      244.25     ]\n",
      "   ...\n",
      "   [141.        122.25      107.       ]\n",
      "   [155.5       141.        134.       ]\n",
      "   [169.75      158.        157.       ]]\n",
      "\n",
      "  [[227.5       234.5       244.5      ]\n",
      "   [229.        236.        246.       ]\n",
      "   [228.        235.        245.       ]\n",
      "   ...\n",
      "   [154.        141.25      132.75     ]\n",
      "   [167.5       158.75      159.75     ]\n",
      "   [175.        169.25      174.25     ]]\n",
      "\n",
      "  ...\n",
      "\n",
      "  [[189.25      190.75      204.25     ]\n",
      "   [213.25      214.25      233.25     ]\n",
      "   [220.        221.75      247.       ]\n",
      "   ...\n",
      "   [192.25      194.25      207.25     ]\n",
      "   [190.75      192.75      205.75     ]\n",
      "   [191.25      193.25      206.25     ]]\n",
      "\n",
      "  [[208.        215.5       244.5      ]\n",
      "   [216.75      223.75      251.       ]\n",
      "   [219.5       225.75      251.25     ]\n",
      "   ...\n",
      "   [191.25      193.25      206.25     ]\n",
      "   [191.75      193.75      206.75     ]\n",
      "   [190.        192.        205.       ]]\n",
      "\n",
      "  [[212.        222.75      255.       ]\n",
      "   [217.75      228.        255.       ]\n",
      "   [218.5       228.25      250.75     ]\n",
      "   ...\n",
      "   [191.        193.        206.       ]\n",
      "   [192.        194.        207.       ]\n",
      "   [188.75      190.75      203.75     ]]]], shape=(32, 128, 128, 3), dtype=float32) (32, 128, 128, 3)\n",
      "tf.Tensor(\n",
      "[[1. 0. 0. 0. 0. 0. 0.]\n",
      " [0. 1. 0. 0. 0. 0. 0.]\n",
      " [0. 0. 0. 0. 1. 0. 0.]\n",
      " [0. 1. 0. 0. 0. 0. 0.]\n",
      " [0. 0. 0. 0. 1. 0. 0.]\n",
      " [0. 1. 0. 0. 0. 0. 0.]\n",
      " [0. 0. 0. 1. 0. 0. 0.]\n",
      " [0. 0. 1. 0. 0. 0. 0.]\n",
      " [0. 0. 1. 0. 0. 0. 0.]\n",
      " [0. 0. 1. 0. 0. 0. 0.]\n",
      " [0. 0. 1. 0. 0. 0. 0.]\n",
      " [0. 0. 1. 0. 0. 0. 0.]\n",
      " [0. 0. 0. 0. 1. 0. 0.]\n",
      " [0. 0. 1. 0. 0. 0. 0.]\n",
      " [0. 0. 0. 1. 0. 0. 0.]\n",
      " [0. 0. 0. 1. 0. 0. 0.]\n",
      " [0. 1. 0. 0. 0. 0. 0.]\n",
      " [0. 0. 0. 1. 0. 0. 0.]\n",
      " [1. 0. 0. 0. 0. 0. 0.]\n",
      " [0. 1. 0. 0. 0. 0. 0.]\n",
      " [0. 0. 0. 1. 0. 0. 0.]\n",
      " [0. 0. 1. 0. 0. 0. 0.]\n",
      " [0. 0. 0. 0. 1. 0. 0.]\n",
      " [0. 0. 0. 1. 0. 0. 0.]\n",
      " [0. 0. 0. 1. 0. 0. 0.]\n",
      " [0. 0. 1. 0. 0. 0. 0.]\n",
      " [0. 1. 0. 0. 0. 0. 0.]\n",
      " [0. 0. 0. 0. 1. 0. 0.]\n",
      " [0. 0. 1. 0. 0. 0. 0.]\n",
      " [0. 0. 0. 0. 1. 0. 0.]\n",
      " [0. 0. 0. 0. 1. 0. 0.]\n",
      " [0. 0. 0. 1. 0. 0. 0.]], shape=(32, 7), dtype=float32) (32, 7)\n"
     ]
    }
   ],
   "source": [
    "for x,y in training_set:\n",
    "    print(x,x.shape)\n",
    "    print(y,y.shape)\n",
    "    break"
   ]
  },
  {
   "cell_type": "code",
   "execution_count": 6,
   "id": "255457ab-950c-4ddc-8eb0-9fb3c7034647",
   "metadata": {},
   "outputs": [],
   "source": [
    "from tensorflow.keras.layers import Dense,Conv2D,Flatten,MaxPool2D,Dropout\n",
    "from tensorflow.keras.models import Sequential"
   ]
  },
  {
   "cell_type": "code",
   "execution_count": 7,
   "id": "612d2e28-0a48-40ce-bf53-96b7fce3e288",
   "metadata": {},
   "outputs": [],
   "source": [
    "model=Sequential()"
   ]
  },
  {
   "cell_type": "code",
   "execution_count": 8,
   "id": "b3163b3b-e12a-44a2-a449-4c3a1a14d4f2",
   "metadata": {},
   "outputs": [
    {
     "name": "stderr",
     "output_type": "stream",
     "text": [
      "C:\\Users\\Ananya\\Documents\\Anaconda\\Lib\\site-packages\\keras\\src\\layers\\convolutional\\base_conv.py:99: UserWarning: Do not pass an `input_shape`/`input_dim` argument to a layer. When using Sequential models, prefer using an `Input(shape)` object as the first layer in the model instead.\n",
      "  super().__init__(\n"
     ]
    }
   ],
   "source": [
    "model.add(Conv2D(filters=32,kernel_size=3,padding='same',activation='relu',input_shape=[128,128,3]))\n",
    "model.add(Conv2D(filters=32,kernel_size=3,activation='relu'))\n",
    "model.add(MaxPool2D(pool_size=2,strides=2))\n"
   ]
  },
  {
   "cell_type": "code",
   "execution_count": 9,
   "id": "5a0de0fe-2ce2-49a5-a472-67519505d3e4",
   "metadata": {},
   "outputs": [],
   "source": [
    "model.add(Conv2D(filters=64,kernel_size=3,padding=\"same\",activation='relu'))\n",
    "model.add(Conv2D(filters=64,kernel_size=3,activation='relu'))\n",
    "model.add(MaxPool2D(pool_size=2,strides=2))"
   ]
  },
  {
   "cell_type": "code",
   "execution_count": 10,
   "id": "879d3abe-c83b-43d1-8765-b1f249337b37",
   "metadata": {},
   "outputs": [],
   "source": [
    "model.add(Conv2D(filters=128,kernel_size=3,padding=\"same\",activation='relu'))\n",
    "model.add(Conv2D(filters=128,kernel_size=3,activation='relu'))\n",
    "model.add(MaxPool2D(pool_size=2,strides=2))"
   ]
  },
  {
   "cell_type": "code",
   "execution_count": 11,
   "id": "4d28b8f4-1b49-4462-91a3-95d092c1d1e3",
   "metadata": {},
   "outputs": [],
   "source": [
    "model.add(Conv2D(filters=256,kernel_size=3,padding=\"same\",activation='relu'))\n",
    "model.add(Conv2D(filters=256,kernel_size=3,activation='relu'))\n",
    "model.add(MaxPool2D(pool_size=2,strides=2))"
   ]
  },
  {
   "cell_type": "code",
   "execution_count": 12,
   "id": "6783077d-08d2-4b54-91f7-27aaedfed992",
   "metadata": {},
   "outputs": [],
   "source": [
    "model.add(Conv2D(filters=512,kernel_size=3,padding=\"same\",activation='relu'))\n",
    "model.add(Conv2D(filters=512,kernel_size=3,activation='relu'))\n",
    "model.add(MaxPool2D(pool_size=2,strides=2))"
   ]
  },
  {
   "cell_type": "code",
   "execution_count": 13,
   "id": "692ffbdd-abe1-4d26-8d30-cd5d8194527a",
   "metadata": {},
   "outputs": [],
   "source": [
    "model.add(Dropout(0.25))\n"
   ]
  },
  {
   "cell_type": "code",
   "execution_count": 14,
   "id": "773026fa-3e9f-48a1-85b9-2a81e9a806c7",
   "metadata": {},
   "outputs": [],
   "source": [
    "model.add(Flatten())"
   ]
  },
  {
   "cell_type": "code",
   "execution_count": 15,
   "id": "2064c7ae-55c4-42a7-95d9-e31ed00c3b83",
   "metadata": {},
   "outputs": [],
   "source": [
    "model.add(Dense(units=1024,activation='relu'))"
   ]
  },
  {
   "cell_type": "code",
   "execution_count": 16,
   "id": "602ce5e6-b57e-452b-984a-b3bca1cd58eb",
   "metadata": {},
   "outputs": [],
   "source": [
    "model.add(Dropout(0.4))"
   ]
  },
  {
   "cell_type": "code",
   "execution_count": 17,
   "id": "6022b232-f2a4-459b-ae38-ac6aa1d936db",
   "metadata": {},
   "outputs": [],
   "source": [
    "model.add(Dense(units=7,activation='softmax'))"
   ]
  },
  {
   "cell_type": "code",
   "execution_count": 18,
   "id": "1886b8b1-8e56-4918-b4b5-0068d8ef0e6d",
   "metadata": {},
   "outputs": [],
   "source": [
    "model.compile(optimizer=tf.keras.optimizers.Adam(\n",
    "    learning_rate=0.0001),loss='categorical_crossentropy',metrics=['accuracy'])"
   ]
  },
  {
   "cell_type": "code",
   "execution_count": 19,
   "id": "8fab1fd8-2360-44f5-9346-180c6c8a1493",
   "metadata": {},
   "outputs": [
    {
     "data": {
      "text/html": [
       "<pre style=\"white-space:pre;overflow-x:auto;line-height:normal;font-family:Menlo,'DejaVu Sans Mono',consolas,'Courier New',monospace\"><span style=\"font-weight: bold\">Model: \"sequential\"</span>\n",
       "</pre>\n"
      ],
      "text/plain": [
       "\u001b[1mModel: \"sequential\"\u001b[0m\n"
      ]
     },
     "metadata": {},
     "output_type": "display_data"
    },
    {
     "data": {
      "text/html": [
       "<pre style=\"white-space:pre;overflow-x:auto;line-height:normal;font-family:Menlo,'DejaVu Sans Mono',consolas,'Courier New',monospace\">┏━━━━━━━━━━━━━━━━━━━━━━━━━━━━━━━━━━━━━━┳━━━━━━━━━━━━━━━━━━━━━━━━━━━━━┳━━━━━━━━━━━━━━━━━┓\n",
       "┃<span style=\"font-weight: bold\"> Layer (type)                         </span>┃<span style=\"font-weight: bold\"> Output Shape                </span>┃<span style=\"font-weight: bold\">         Param # </span>┃\n",
       "┡━━━━━━━━━━━━━━━━━━━━━━━━━━━━━━━━━━━━━━╇━━━━━━━━━━━━━━━━━━━━━━━━━━━━━╇━━━━━━━━━━━━━━━━━┩\n",
       "│ conv2d (<span style=\"color: #0087ff; text-decoration-color: #0087ff\">Conv2D</span>)                      │ (<span style=\"color: #00d7ff; text-decoration-color: #00d7ff\">None</span>, <span style=\"color: #00af00; text-decoration-color: #00af00\">128</span>, <span style=\"color: #00af00; text-decoration-color: #00af00\">128</span>, <span style=\"color: #00af00; text-decoration-color: #00af00\">32</span>)        │             <span style=\"color: #00af00; text-decoration-color: #00af00\">896</span> │\n",
       "├──────────────────────────────────────┼─────────────────────────────┼─────────────────┤\n",
       "│ conv2d_1 (<span style=\"color: #0087ff; text-decoration-color: #0087ff\">Conv2D</span>)                    │ (<span style=\"color: #00d7ff; text-decoration-color: #00d7ff\">None</span>, <span style=\"color: #00af00; text-decoration-color: #00af00\">126</span>, <span style=\"color: #00af00; text-decoration-color: #00af00\">126</span>, <span style=\"color: #00af00; text-decoration-color: #00af00\">32</span>)        │           <span style=\"color: #00af00; text-decoration-color: #00af00\">9,248</span> │\n",
       "├──────────────────────────────────────┼─────────────────────────────┼─────────────────┤\n",
       "│ max_pooling2d (<span style=\"color: #0087ff; text-decoration-color: #0087ff\">MaxPooling2D</span>)         │ (<span style=\"color: #00d7ff; text-decoration-color: #00d7ff\">None</span>, <span style=\"color: #00af00; text-decoration-color: #00af00\">63</span>, <span style=\"color: #00af00; text-decoration-color: #00af00\">63</span>, <span style=\"color: #00af00; text-decoration-color: #00af00\">32</span>)          │               <span style=\"color: #00af00; text-decoration-color: #00af00\">0</span> │\n",
       "├──────────────────────────────────────┼─────────────────────────────┼─────────────────┤\n",
       "│ conv2d_2 (<span style=\"color: #0087ff; text-decoration-color: #0087ff\">Conv2D</span>)                    │ (<span style=\"color: #00d7ff; text-decoration-color: #00d7ff\">None</span>, <span style=\"color: #00af00; text-decoration-color: #00af00\">63</span>, <span style=\"color: #00af00; text-decoration-color: #00af00\">63</span>, <span style=\"color: #00af00; text-decoration-color: #00af00\">64</span>)          │          <span style=\"color: #00af00; text-decoration-color: #00af00\">18,496</span> │\n",
       "├──────────────────────────────────────┼─────────────────────────────┼─────────────────┤\n",
       "│ conv2d_3 (<span style=\"color: #0087ff; text-decoration-color: #0087ff\">Conv2D</span>)                    │ (<span style=\"color: #00d7ff; text-decoration-color: #00d7ff\">None</span>, <span style=\"color: #00af00; text-decoration-color: #00af00\">61</span>, <span style=\"color: #00af00; text-decoration-color: #00af00\">61</span>, <span style=\"color: #00af00; text-decoration-color: #00af00\">64</span>)          │          <span style=\"color: #00af00; text-decoration-color: #00af00\">36,928</span> │\n",
       "├──────────────────────────────────────┼─────────────────────────────┼─────────────────┤\n",
       "│ max_pooling2d_1 (<span style=\"color: #0087ff; text-decoration-color: #0087ff\">MaxPooling2D</span>)       │ (<span style=\"color: #00d7ff; text-decoration-color: #00d7ff\">None</span>, <span style=\"color: #00af00; text-decoration-color: #00af00\">30</span>, <span style=\"color: #00af00; text-decoration-color: #00af00\">30</span>, <span style=\"color: #00af00; text-decoration-color: #00af00\">64</span>)          │               <span style=\"color: #00af00; text-decoration-color: #00af00\">0</span> │\n",
       "├──────────────────────────────────────┼─────────────────────────────┼─────────────────┤\n",
       "│ conv2d_4 (<span style=\"color: #0087ff; text-decoration-color: #0087ff\">Conv2D</span>)                    │ (<span style=\"color: #00d7ff; text-decoration-color: #00d7ff\">None</span>, <span style=\"color: #00af00; text-decoration-color: #00af00\">30</span>, <span style=\"color: #00af00; text-decoration-color: #00af00\">30</span>, <span style=\"color: #00af00; text-decoration-color: #00af00\">128</span>)         │          <span style=\"color: #00af00; text-decoration-color: #00af00\">73,856</span> │\n",
       "├──────────────────────────────────────┼─────────────────────────────┼─────────────────┤\n",
       "│ conv2d_5 (<span style=\"color: #0087ff; text-decoration-color: #0087ff\">Conv2D</span>)                    │ (<span style=\"color: #00d7ff; text-decoration-color: #00d7ff\">None</span>, <span style=\"color: #00af00; text-decoration-color: #00af00\">28</span>, <span style=\"color: #00af00; text-decoration-color: #00af00\">28</span>, <span style=\"color: #00af00; text-decoration-color: #00af00\">128</span>)         │         <span style=\"color: #00af00; text-decoration-color: #00af00\">147,584</span> │\n",
       "├──────────────────────────────────────┼─────────────────────────────┼─────────────────┤\n",
       "│ max_pooling2d_2 (<span style=\"color: #0087ff; text-decoration-color: #0087ff\">MaxPooling2D</span>)       │ (<span style=\"color: #00d7ff; text-decoration-color: #00d7ff\">None</span>, <span style=\"color: #00af00; text-decoration-color: #00af00\">14</span>, <span style=\"color: #00af00; text-decoration-color: #00af00\">14</span>, <span style=\"color: #00af00; text-decoration-color: #00af00\">128</span>)         │               <span style=\"color: #00af00; text-decoration-color: #00af00\">0</span> │\n",
       "├──────────────────────────────────────┼─────────────────────────────┼─────────────────┤\n",
       "│ conv2d_6 (<span style=\"color: #0087ff; text-decoration-color: #0087ff\">Conv2D</span>)                    │ (<span style=\"color: #00d7ff; text-decoration-color: #00d7ff\">None</span>, <span style=\"color: #00af00; text-decoration-color: #00af00\">14</span>, <span style=\"color: #00af00; text-decoration-color: #00af00\">14</span>, <span style=\"color: #00af00; text-decoration-color: #00af00\">256</span>)         │         <span style=\"color: #00af00; text-decoration-color: #00af00\">295,168</span> │\n",
       "├──────────────────────────────────────┼─────────────────────────────┼─────────────────┤\n",
       "│ conv2d_7 (<span style=\"color: #0087ff; text-decoration-color: #0087ff\">Conv2D</span>)                    │ (<span style=\"color: #00d7ff; text-decoration-color: #00d7ff\">None</span>, <span style=\"color: #00af00; text-decoration-color: #00af00\">12</span>, <span style=\"color: #00af00; text-decoration-color: #00af00\">12</span>, <span style=\"color: #00af00; text-decoration-color: #00af00\">256</span>)         │         <span style=\"color: #00af00; text-decoration-color: #00af00\">590,080</span> │\n",
       "├──────────────────────────────────────┼─────────────────────────────┼─────────────────┤\n",
       "│ max_pooling2d_3 (<span style=\"color: #0087ff; text-decoration-color: #0087ff\">MaxPooling2D</span>)       │ (<span style=\"color: #00d7ff; text-decoration-color: #00d7ff\">None</span>, <span style=\"color: #00af00; text-decoration-color: #00af00\">6</span>, <span style=\"color: #00af00; text-decoration-color: #00af00\">6</span>, <span style=\"color: #00af00; text-decoration-color: #00af00\">256</span>)           │               <span style=\"color: #00af00; text-decoration-color: #00af00\">0</span> │\n",
       "├──────────────────────────────────────┼─────────────────────────────┼─────────────────┤\n",
       "│ conv2d_8 (<span style=\"color: #0087ff; text-decoration-color: #0087ff\">Conv2D</span>)                    │ (<span style=\"color: #00d7ff; text-decoration-color: #00d7ff\">None</span>, <span style=\"color: #00af00; text-decoration-color: #00af00\">6</span>, <span style=\"color: #00af00; text-decoration-color: #00af00\">6</span>, <span style=\"color: #00af00; text-decoration-color: #00af00\">512</span>)           │       <span style=\"color: #00af00; text-decoration-color: #00af00\">1,180,160</span> │\n",
       "├──────────────────────────────────────┼─────────────────────────────┼─────────────────┤\n",
       "│ conv2d_9 (<span style=\"color: #0087ff; text-decoration-color: #0087ff\">Conv2D</span>)                    │ (<span style=\"color: #00d7ff; text-decoration-color: #00d7ff\">None</span>, <span style=\"color: #00af00; text-decoration-color: #00af00\">4</span>, <span style=\"color: #00af00; text-decoration-color: #00af00\">4</span>, <span style=\"color: #00af00; text-decoration-color: #00af00\">512</span>)           │       <span style=\"color: #00af00; text-decoration-color: #00af00\">2,359,808</span> │\n",
       "├──────────────────────────────────────┼─────────────────────────────┼─────────────────┤\n",
       "│ max_pooling2d_4 (<span style=\"color: #0087ff; text-decoration-color: #0087ff\">MaxPooling2D</span>)       │ (<span style=\"color: #00d7ff; text-decoration-color: #00d7ff\">None</span>, <span style=\"color: #00af00; text-decoration-color: #00af00\">2</span>, <span style=\"color: #00af00; text-decoration-color: #00af00\">2</span>, <span style=\"color: #00af00; text-decoration-color: #00af00\">512</span>)           │               <span style=\"color: #00af00; text-decoration-color: #00af00\">0</span> │\n",
       "├──────────────────────────────────────┼─────────────────────────────┼─────────────────┤\n",
       "│ dropout (<span style=\"color: #0087ff; text-decoration-color: #0087ff\">Dropout</span>)                    │ (<span style=\"color: #00d7ff; text-decoration-color: #00d7ff\">None</span>, <span style=\"color: #00af00; text-decoration-color: #00af00\">2</span>, <span style=\"color: #00af00; text-decoration-color: #00af00\">2</span>, <span style=\"color: #00af00; text-decoration-color: #00af00\">512</span>)           │               <span style=\"color: #00af00; text-decoration-color: #00af00\">0</span> │\n",
       "├──────────────────────────────────────┼─────────────────────────────┼─────────────────┤\n",
       "│ flatten (<span style=\"color: #0087ff; text-decoration-color: #0087ff\">Flatten</span>)                    │ (<span style=\"color: #00d7ff; text-decoration-color: #00d7ff\">None</span>, <span style=\"color: #00af00; text-decoration-color: #00af00\">2048</span>)                │               <span style=\"color: #00af00; text-decoration-color: #00af00\">0</span> │\n",
       "├──────────────────────────────────────┼─────────────────────────────┼─────────────────┤\n",
       "│ dense (<span style=\"color: #0087ff; text-decoration-color: #0087ff\">Dense</span>)                        │ (<span style=\"color: #00d7ff; text-decoration-color: #00d7ff\">None</span>, <span style=\"color: #00af00; text-decoration-color: #00af00\">1024</span>)                │       <span style=\"color: #00af00; text-decoration-color: #00af00\">2,098,176</span> │\n",
       "├──────────────────────────────────────┼─────────────────────────────┼─────────────────┤\n",
       "│ dropout_1 (<span style=\"color: #0087ff; text-decoration-color: #0087ff\">Dropout</span>)                  │ (<span style=\"color: #00d7ff; text-decoration-color: #00d7ff\">None</span>, <span style=\"color: #00af00; text-decoration-color: #00af00\">1024</span>)                │               <span style=\"color: #00af00; text-decoration-color: #00af00\">0</span> │\n",
       "├──────────────────────────────────────┼─────────────────────────────┼─────────────────┤\n",
       "│ dense_1 (<span style=\"color: #0087ff; text-decoration-color: #0087ff\">Dense</span>)                      │ (<span style=\"color: #00d7ff; text-decoration-color: #00d7ff\">None</span>, <span style=\"color: #00af00; text-decoration-color: #00af00\">7</span>)                   │           <span style=\"color: #00af00; text-decoration-color: #00af00\">7,175</span> │\n",
       "└──────────────────────────────────────┴─────────────────────────────┴─────────────────┘\n",
       "</pre>\n"
      ],
      "text/plain": [
       "┏━━━━━━━━━━━━━━━━━━━━━━━━━━━━━━━━━━━━━━┳━━━━━━━━━━━━━━━━━━━━━━━━━━━━━┳━━━━━━━━━━━━━━━━━┓\n",
       "┃\u001b[1m \u001b[0m\u001b[1mLayer (type)                        \u001b[0m\u001b[1m \u001b[0m┃\u001b[1m \u001b[0m\u001b[1mOutput Shape               \u001b[0m\u001b[1m \u001b[0m┃\u001b[1m \u001b[0m\u001b[1m        Param #\u001b[0m\u001b[1m \u001b[0m┃\n",
       "┡━━━━━━━━━━━━━━━━━━━━━━━━━━━━━━━━━━━━━━╇━━━━━━━━━━━━━━━━━━━━━━━━━━━━━╇━━━━━━━━━━━━━━━━━┩\n",
       "│ conv2d (\u001b[38;5;33mConv2D\u001b[0m)                      │ (\u001b[38;5;45mNone\u001b[0m, \u001b[38;5;34m128\u001b[0m, \u001b[38;5;34m128\u001b[0m, \u001b[38;5;34m32\u001b[0m)        │             \u001b[38;5;34m896\u001b[0m │\n",
       "├──────────────────────────────────────┼─────────────────────────────┼─────────────────┤\n",
       "│ conv2d_1 (\u001b[38;5;33mConv2D\u001b[0m)                    │ (\u001b[38;5;45mNone\u001b[0m, \u001b[38;5;34m126\u001b[0m, \u001b[38;5;34m126\u001b[0m, \u001b[38;5;34m32\u001b[0m)        │           \u001b[38;5;34m9,248\u001b[0m │\n",
       "├──────────────────────────────────────┼─────────────────────────────┼─────────────────┤\n",
       "│ max_pooling2d (\u001b[38;5;33mMaxPooling2D\u001b[0m)         │ (\u001b[38;5;45mNone\u001b[0m, \u001b[38;5;34m63\u001b[0m, \u001b[38;5;34m63\u001b[0m, \u001b[38;5;34m32\u001b[0m)          │               \u001b[38;5;34m0\u001b[0m │\n",
       "├──────────────────────────────────────┼─────────────────────────────┼─────────────────┤\n",
       "│ conv2d_2 (\u001b[38;5;33mConv2D\u001b[0m)                    │ (\u001b[38;5;45mNone\u001b[0m, \u001b[38;5;34m63\u001b[0m, \u001b[38;5;34m63\u001b[0m, \u001b[38;5;34m64\u001b[0m)          │          \u001b[38;5;34m18,496\u001b[0m │\n",
       "├──────────────────────────────────────┼─────────────────────────────┼─────────────────┤\n",
       "│ conv2d_3 (\u001b[38;5;33mConv2D\u001b[0m)                    │ (\u001b[38;5;45mNone\u001b[0m, \u001b[38;5;34m61\u001b[0m, \u001b[38;5;34m61\u001b[0m, \u001b[38;5;34m64\u001b[0m)          │          \u001b[38;5;34m36,928\u001b[0m │\n",
       "├──────────────────────────────────────┼─────────────────────────────┼─────────────────┤\n",
       "│ max_pooling2d_1 (\u001b[38;5;33mMaxPooling2D\u001b[0m)       │ (\u001b[38;5;45mNone\u001b[0m, \u001b[38;5;34m30\u001b[0m, \u001b[38;5;34m30\u001b[0m, \u001b[38;5;34m64\u001b[0m)          │               \u001b[38;5;34m0\u001b[0m │\n",
       "├──────────────────────────────────────┼─────────────────────────────┼─────────────────┤\n",
       "│ conv2d_4 (\u001b[38;5;33mConv2D\u001b[0m)                    │ (\u001b[38;5;45mNone\u001b[0m, \u001b[38;5;34m30\u001b[0m, \u001b[38;5;34m30\u001b[0m, \u001b[38;5;34m128\u001b[0m)         │          \u001b[38;5;34m73,856\u001b[0m │\n",
       "├──────────────────────────────────────┼─────────────────────────────┼─────────────────┤\n",
       "│ conv2d_5 (\u001b[38;5;33mConv2D\u001b[0m)                    │ (\u001b[38;5;45mNone\u001b[0m, \u001b[38;5;34m28\u001b[0m, \u001b[38;5;34m28\u001b[0m, \u001b[38;5;34m128\u001b[0m)         │         \u001b[38;5;34m147,584\u001b[0m │\n",
       "├──────────────────────────────────────┼─────────────────────────────┼─────────────────┤\n",
       "│ max_pooling2d_2 (\u001b[38;5;33mMaxPooling2D\u001b[0m)       │ (\u001b[38;5;45mNone\u001b[0m, \u001b[38;5;34m14\u001b[0m, \u001b[38;5;34m14\u001b[0m, \u001b[38;5;34m128\u001b[0m)         │               \u001b[38;5;34m0\u001b[0m │\n",
       "├──────────────────────────────────────┼─────────────────────────────┼─────────────────┤\n",
       "│ conv2d_6 (\u001b[38;5;33mConv2D\u001b[0m)                    │ (\u001b[38;5;45mNone\u001b[0m, \u001b[38;5;34m14\u001b[0m, \u001b[38;5;34m14\u001b[0m, \u001b[38;5;34m256\u001b[0m)         │         \u001b[38;5;34m295,168\u001b[0m │\n",
       "├──────────────────────────────────────┼─────────────────────────────┼─────────────────┤\n",
       "│ conv2d_7 (\u001b[38;5;33mConv2D\u001b[0m)                    │ (\u001b[38;5;45mNone\u001b[0m, \u001b[38;5;34m12\u001b[0m, \u001b[38;5;34m12\u001b[0m, \u001b[38;5;34m256\u001b[0m)         │         \u001b[38;5;34m590,080\u001b[0m │\n",
       "├──────────────────────────────────────┼─────────────────────────────┼─────────────────┤\n",
       "│ max_pooling2d_3 (\u001b[38;5;33mMaxPooling2D\u001b[0m)       │ (\u001b[38;5;45mNone\u001b[0m, \u001b[38;5;34m6\u001b[0m, \u001b[38;5;34m6\u001b[0m, \u001b[38;5;34m256\u001b[0m)           │               \u001b[38;5;34m0\u001b[0m │\n",
       "├──────────────────────────────────────┼─────────────────────────────┼─────────────────┤\n",
       "│ conv2d_8 (\u001b[38;5;33mConv2D\u001b[0m)                    │ (\u001b[38;5;45mNone\u001b[0m, \u001b[38;5;34m6\u001b[0m, \u001b[38;5;34m6\u001b[0m, \u001b[38;5;34m512\u001b[0m)           │       \u001b[38;5;34m1,180,160\u001b[0m │\n",
       "├──────────────────────────────────────┼─────────────────────────────┼─────────────────┤\n",
       "│ conv2d_9 (\u001b[38;5;33mConv2D\u001b[0m)                    │ (\u001b[38;5;45mNone\u001b[0m, \u001b[38;5;34m4\u001b[0m, \u001b[38;5;34m4\u001b[0m, \u001b[38;5;34m512\u001b[0m)           │       \u001b[38;5;34m2,359,808\u001b[0m │\n",
       "├──────────────────────────────────────┼─────────────────────────────┼─────────────────┤\n",
       "│ max_pooling2d_4 (\u001b[38;5;33mMaxPooling2D\u001b[0m)       │ (\u001b[38;5;45mNone\u001b[0m, \u001b[38;5;34m2\u001b[0m, \u001b[38;5;34m2\u001b[0m, \u001b[38;5;34m512\u001b[0m)           │               \u001b[38;5;34m0\u001b[0m │\n",
       "├──────────────────────────────────────┼─────────────────────────────┼─────────────────┤\n",
       "│ dropout (\u001b[38;5;33mDropout\u001b[0m)                    │ (\u001b[38;5;45mNone\u001b[0m, \u001b[38;5;34m2\u001b[0m, \u001b[38;5;34m2\u001b[0m, \u001b[38;5;34m512\u001b[0m)           │               \u001b[38;5;34m0\u001b[0m │\n",
       "├──────────────────────────────────────┼─────────────────────────────┼─────────────────┤\n",
       "│ flatten (\u001b[38;5;33mFlatten\u001b[0m)                    │ (\u001b[38;5;45mNone\u001b[0m, \u001b[38;5;34m2048\u001b[0m)                │               \u001b[38;5;34m0\u001b[0m │\n",
       "├──────────────────────────────────────┼─────────────────────────────┼─────────────────┤\n",
       "│ dense (\u001b[38;5;33mDense\u001b[0m)                        │ (\u001b[38;5;45mNone\u001b[0m, \u001b[38;5;34m1024\u001b[0m)                │       \u001b[38;5;34m2,098,176\u001b[0m │\n",
       "├──────────────────────────────────────┼─────────────────────────────┼─────────────────┤\n",
       "│ dropout_1 (\u001b[38;5;33mDropout\u001b[0m)                  │ (\u001b[38;5;45mNone\u001b[0m, \u001b[38;5;34m1024\u001b[0m)                │               \u001b[38;5;34m0\u001b[0m │\n",
       "├──────────────────────────────────────┼─────────────────────────────┼─────────────────┤\n",
       "│ dense_1 (\u001b[38;5;33mDense\u001b[0m)                      │ (\u001b[38;5;45mNone\u001b[0m, \u001b[38;5;34m7\u001b[0m)                   │           \u001b[38;5;34m7,175\u001b[0m │\n",
       "└──────────────────────────────────────┴─────────────────────────────┴─────────────────┘\n"
      ]
     },
     "metadata": {},
     "output_type": "display_data"
    },
    {
     "data": {
      "text/html": [
       "<pre style=\"white-space:pre;overflow-x:auto;line-height:normal;font-family:Menlo,'DejaVu Sans Mono',consolas,'Courier New',monospace\"><span style=\"font-weight: bold\"> Total params: </span><span style=\"color: #00af00; text-decoration-color: #00af00\">6,817,575</span> (26.01 MB)\n",
       "</pre>\n"
      ],
      "text/plain": [
       "\u001b[1m Total params: \u001b[0m\u001b[38;5;34m6,817,575\u001b[0m (26.01 MB)\n"
      ]
     },
     "metadata": {},
     "output_type": "display_data"
    },
    {
     "data": {
      "text/html": [
       "<pre style=\"white-space:pre;overflow-x:auto;line-height:normal;font-family:Menlo,'DejaVu Sans Mono',consolas,'Courier New',monospace\"><span style=\"font-weight: bold\"> Trainable params: </span><span style=\"color: #00af00; text-decoration-color: #00af00\">6,817,575</span> (26.01 MB)\n",
       "</pre>\n"
      ],
      "text/plain": [
       "\u001b[1m Trainable params: \u001b[0m\u001b[38;5;34m6,817,575\u001b[0m (26.01 MB)\n"
      ]
     },
     "metadata": {},
     "output_type": "display_data"
    },
    {
     "data": {
      "text/html": [
       "<pre style=\"white-space:pre;overflow-x:auto;line-height:normal;font-family:Menlo,'DejaVu Sans Mono',consolas,'Courier New',monospace\"><span style=\"font-weight: bold\"> Non-trainable params: </span><span style=\"color: #00af00; text-decoration-color: #00af00\">0</span> (0.00 B)\n",
       "</pre>\n"
      ],
      "text/plain": [
       "\u001b[1m Non-trainable params: \u001b[0m\u001b[38;5;34m0\u001b[0m (0.00 B)\n"
      ]
     },
     "metadata": {},
     "output_type": "display_data"
    }
   ],
   "source": [
    "model.summary()"
   ]
  },
  {
   "cell_type": "code",
   "execution_count": 20,
   "id": "b0d89b4e-27e1-4174-8d40-b468dd4e3215",
   "metadata": {},
   "outputs": [
    {
     "name": "stdout",
     "output_type": "stream",
     "text": [
      "Epoch 1/30\n",
      "\u001b[1m118/118\u001b[0m \u001b[32m━━━━━━━━━━━━━━━━━━━━\u001b[0m\u001b[37m\u001b[0m \u001b[1m523s\u001b[0m 4s/step - accuracy: 0.3497 - loss: 1.9815 - val_accuracy: 0.4553 - val_loss: 1.3256\n",
      "Epoch 2/30\n",
      "\u001b[1m118/118\u001b[0m \u001b[32m━━━━━━━━━━━━━━━━━━━━\u001b[0m\u001b[37m\u001b[0m \u001b[1m550s\u001b[0m 4s/step - accuracy: 0.4595 - loss: 1.2675 - val_accuracy: 0.5550 - val_loss: 1.0615\n",
      "Epoch 3/30\n",
      "\u001b[1m118/118\u001b[0m \u001b[32m━━━━━━━━━━━━━━━━━━━━\u001b[0m\u001b[37m\u001b[0m \u001b[1m510s\u001b[0m 4s/step - accuracy: 0.5313 - loss: 1.1354 - val_accuracy: 0.5417 - val_loss: 1.0854\n",
      "Epoch 4/30\n",
      "\u001b[1m118/118\u001b[0m \u001b[32m━━━━━━━━━━━━━━━━━━━━\u001b[0m\u001b[37m\u001b[0m \u001b[1m538s\u001b[0m 5s/step - accuracy: 0.5464 - loss: 1.0962 - val_accuracy: 0.5872 - val_loss: 0.9787\n",
      "Epoch 5/30\n",
      "\u001b[1m118/118\u001b[0m \u001b[32m━━━━━━━━━━━━━━━━━━━━\u001b[0m\u001b[37m\u001b[0m \u001b[1m532s\u001b[0m 4s/step - accuracy: 0.5747 - loss: 1.0258 - val_accuracy: 0.6130 - val_loss: 0.9473\n",
      "Epoch 6/30\n",
      "\u001b[1m118/118\u001b[0m \u001b[32m━━━━━━━━━━━━━━━━━━━━\u001b[0m\u001b[37m\u001b[0m \u001b[1m542s\u001b[0m 4s/step - accuracy: 0.5767 - loss: 0.9884 - val_accuracy: 0.6005 - val_loss: 0.9870\n",
      "Epoch 7/30\n",
      "\u001b[1m118/118\u001b[0m \u001b[32m━━━━━━━━━━━━━━━━━━━━\u001b[0m\u001b[37m\u001b[0m \u001b[1m513s\u001b[0m 4s/step - accuracy: 0.6106 - loss: 0.9517 - val_accuracy: 0.6095 - val_loss: 0.9195\n",
      "Epoch 8/30\n",
      "\u001b[1m118/118\u001b[0m \u001b[32m━━━━━━━━━━━━━━━━━━━━\u001b[0m\u001b[37m\u001b[0m \u001b[1m462s\u001b[0m 4s/step - accuracy: 0.6096 - loss: 0.9374 - val_accuracy: 0.6130 - val_loss: 0.9189\n",
      "Epoch 9/30\n",
      "\u001b[1m118/118\u001b[0m \u001b[32m━━━━━━━━━━━━━━━━━━━━\u001b[0m\u001b[37m\u001b[0m \u001b[1m394s\u001b[0m 3s/step - accuracy: 0.6101 - loss: 0.9303 - val_accuracy: 0.6401 - val_loss: 0.8706\n",
      "Epoch 10/30\n",
      "\u001b[1m118/118\u001b[0m \u001b[32m━━━━━━━━━━━━━━━━━━━━\u001b[0m\u001b[37m\u001b[0m \u001b[1m290s\u001b[0m 2s/step - accuracy: 0.6326 - loss: 0.9027 - val_accuracy: 0.6627 - val_loss: 0.8182\n",
      "Epoch 11/30\n",
      "\u001b[1m118/118\u001b[0m \u001b[32m━━━━━━━━━━━━━━━━━━━━\u001b[0m\u001b[37m\u001b[0m \u001b[1m288s\u001b[0m 2s/step - accuracy: 0.6383 - loss: 0.8384 - val_accuracy: 0.6669 - val_loss: 0.8056\n",
      "Epoch 12/30\n",
      "\u001b[1m118/118\u001b[0m \u001b[32m━━━━━━━━━━━━━━━━━━━━\u001b[0m\u001b[37m\u001b[0m \u001b[1m299s\u001b[0m 3s/step - accuracy: 0.6578 - loss: 0.8244 - val_accuracy: 0.6568 - val_loss: 0.7986\n",
      "Epoch 13/30\n",
      "\u001b[1m118/118\u001b[0m \u001b[32m━━━━━━━━━━━━━━━━━━━━\u001b[0m\u001b[37m\u001b[0m \u001b[1m330s\u001b[0m 3s/step - accuracy: 0.6570 - loss: 0.7869 - val_accuracy: 0.6826 - val_loss: 0.7499\n",
      "Epoch 14/30\n",
      "\u001b[1m118/118\u001b[0m \u001b[32m━━━━━━━━━━━━━━━━━━━━\u001b[0m\u001b[37m\u001b[0m \u001b[1m289s\u001b[0m 2s/step - accuracy: 0.6710 - loss: 0.7790 - val_accuracy: 0.6890 - val_loss: 0.7536\n",
      "Epoch 15/30\n",
      "\u001b[1m118/118\u001b[0m \u001b[32m━━━━━━━━━━━━━━━━━━━━\u001b[0m\u001b[37m\u001b[0m \u001b[1m308s\u001b[0m 3s/step - accuracy: 0.6845 - loss: 0.7398 - val_accuracy: 0.7002 - val_loss: 0.7032\n",
      "Epoch 16/30\n",
      "\u001b[1m118/118\u001b[0m \u001b[32m━━━━━━━━━━━━━━━━━━━━\u001b[0m\u001b[37m\u001b[0m \u001b[1m307s\u001b[0m 3s/step - accuracy: 0.7072 - loss: 0.6999 - val_accuracy: 0.7185 - val_loss: 0.6727\n",
      "Epoch 17/30\n",
      "\u001b[1m118/118\u001b[0m \u001b[32m━━━━━━━━━━━━━━━━━━━━\u001b[0m\u001b[37m\u001b[0m \u001b[1m335s\u001b[0m 3s/step - accuracy: 0.7383 - loss: 0.6410 - val_accuracy: 0.7432 - val_loss: 0.6230\n",
      "Epoch 18/30\n",
      "\u001b[1m118/118\u001b[0m \u001b[32m━━━━━━━━━━━━━━━━━━━━\u001b[0m\u001b[37m\u001b[0m \u001b[1m290s\u001b[0m 2s/step - accuracy: 0.7191 - loss: 0.6914 - val_accuracy: 0.7685 - val_loss: 0.5559\n",
      "Epoch 19/30\n",
      "\u001b[1m118/118\u001b[0m \u001b[32m━━━━━━━━━━━━━━━━━━━━\u001b[0m\u001b[37m\u001b[0m \u001b[1m411s\u001b[0m 3s/step - accuracy: 0.7599 - loss: 0.6078 - val_accuracy: 0.7815 - val_loss: 0.5225\n",
      "Epoch 20/30\n",
      "\u001b[1m118/118\u001b[0m \u001b[32m━━━━━━━━━━━━━━━━━━━━\u001b[0m\u001b[37m\u001b[0m \u001b[1m409s\u001b[0m 3s/step - accuracy: 0.7782 - loss: 0.5437 - val_accuracy: 0.8105 - val_loss: 0.4643\n",
      "Epoch 21/30\n",
      "\u001b[1m118/118\u001b[0m \u001b[32m━━━━━━━━━━━━━━━━━━━━\u001b[0m\u001b[37m\u001b[0m \u001b[1m455s\u001b[0m 4s/step - accuracy: 0.8164 - loss: 0.4692 - val_accuracy: 0.8275 - val_loss: 0.4422\n",
      "Epoch 22/30\n",
      "\u001b[1m118/118\u001b[0m \u001b[32m━━━━━━━━━━━━━━━━━━━━\u001b[0m\u001b[37m\u001b[0m \u001b[1m539s\u001b[0m 4s/step - accuracy: 0.8334 - loss: 0.4165 - val_accuracy: 0.8344 - val_loss: 0.4083\n",
      "Epoch 23/30\n",
      "\u001b[1m118/118\u001b[0m \u001b[32m━━━━━━━━━━━━━━━━━━━━\u001b[0m\u001b[37m\u001b[0m \u001b[1m420s\u001b[0m 4s/step - accuracy: 0.8426 - loss: 0.3809 - val_accuracy: 0.8575 - val_loss: 0.3818\n",
      "Epoch 24/30\n",
      "\u001b[1m118/118\u001b[0m \u001b[32m━━━━━━━━━━━━━━━━━━━━\u001b[0m\u001b[37m\u001b[0m \u001b[1m516s\u001b[0m 4s/step - accuracy: 0.8709 - loss: 0.3368 - val_accuracy: 0.8719 - val_loss: 0.3406\n",
      "Epoch 25/30\n",
      "\u001b[1m118/118\u001b[0m \u001b[32m━━━━━━━━━━━━━━━━━━━━\u001b[0m\u001b[37m\u001b[0m \u001b[1m421s\u001b[0m 4s/step - accuracy: 0.8870 - loss: 0.2944 - val_accuracy: 0.8969 - val_loss: 0.2883\n",
      "Epoch 26/30\n",
      "\u001b[1m118/118\u001b[0m \u001b[32m━━━━━━━━━━━━━━━━━━━━\u001b[0m\u001b[37m\u001b[0m \u001b[1m389s\u001b[0m 3s/step - accuracy: 0.9118 - loss: 0.2680 - val_accuracy: 0.8913 - val_loss: 0.2781\n",
      "Epoch 27/30\n",
      "\u001b[1m118/118\u001b[0m \u001b[32m━━━━━━━━━━━━━━━━━━━━\u001b[0m\u001b[37m\u001b[0m \u001b[1m356s\u001b[0m 3s/step - accuracy: 0.9217 - loss: 0.2229 - val_accuracy: 0.8527 - val_loss: 0.3947\n",
      "Epoch 28/30\n",
      "\u001b[1m118/118\u001b[0m \u001b[32m━━━━━━━━━━━━━━━━━━━━\u001b[0m\u001b[37m\u001b[0m \u001b[1m456s\u001b[0m 4s/step - accuracy: 0.9210 - loss: 0.2200 - val_accuracy: 0.8993 - val_loss: 0.2686\n",
      "Epoch 29/30\n",
      "\u001b[1m118/118\u001b[0m \u001b[32m━━━━━━━━━━━━━━━━━━━━\u001b[0m\u001b[37m\u001b[0m \u001b[1m544s\u001b[0m 4s/step - accuracy: 0.9295 - loss: 0.1856 - val_accuracy: 0.9016 - val_loss: 0.2509\n",
      "Epoch 30/30\n",
      "\u001b[1m118/118\u001b[0m \u001b[32m━━━━━━━━━━━━━━━━━━━━\u001b[0m\u001b[37m\u001b[0m \u001b[1m459s\u001b[0m 4s/step - accuracy: 0.9362 - loss: 0.1713 - val_accuracy: 0.9264 - val_loss: 0.2043\n"
     ]
    }
   ],
   "source": [
    "training_history= model.fit(x=training_set,validation_data=validation_set,epochs=30)"
   ]
  },
  {
   "cell_type": "code",
   "execution_count": 21,
   "id": "7037579c-3d10-40f1-88b1-671e1885c70a",
   "metadata": {},
   "outputs": [
    {
     "name": "stdout",
     "output_type": "stream",
     "text": [
      "\u001b[1m118/118\u001b[0m \u001b[32m━━━━━━━━━━━━━━━━━━━━\u001b[0m\u001b[37m\u001b[0m \u001b[1m184s\u001b[0m 2s/step - accuracy: 0.9201 - loss: 0.2186\n"
     ]
    }
   ],
   "source": [
    "train_loss,train_acc=model.evaluate(training_set)"
   ]
  },
  {
   "cell_type": "code",
   "execution_count": 22,
   "id": "0dc19add-3abf-4659-8378-de4e36372412",
   "metadata": {},
   "outputs": [
    {
     "name": "stdout",
     "output_type": "stream",
     "text": [
      "0.20348075032234192 0.926349401473999\n"
     ]
    }
   ],
   "source": [
    "print(train_loss,train_acc)"
   ]
  },
  {
   "cell_type": "code",
   "execution_count": 23,
   "id": "664a2385-b6ad-4341-a08a-54a06d68a094",
   "metadata": {},
   "outputs": [
    {
     "name": "stdout",
     "output_type": "stream",
     "text": [
      "\u001b[1m118/118\u001b[0m \u001b[32m━━━━━━━━━━━━━━━━━━━━\u001b[0m\u001b[37m\u001b[0m \u001b[1m184s\u001b[0m 2s/step - accuracy: 0.9278 - loss: 0.2031\n"
     ]
    }
   ],
   "source": [
    "valid_loss,valid_acc=model.evaluate(validation_set)"
   ]
  },
  {
   "cell_type": "code",
   "execution_count": 24,
   "id": "ea171641-fa7e-49f3-b5ac-bbed7e2b041a",
   "metadata": {},
   "outputs": [
    {
     "name": "stdout",
     "output_type": "stream",
     "text": [
      "0.20362810790538788 0.9263689517974854\n"
     ]
    }
   ],
   "source": [
    "print(valid_loss,valid_acc)"
   ]
  },
  {
   "cell_type": "code",
   "execution_count": 25,
   "id": "41a730dc-7764-41ef-945b-1808119d0e08",
   "metadata": {},
   "outputs": [],
   "source": [
    "model.save(\"trained_model.keras\")"
   ]
  },
  {
   "cell_type": "code",
   "execution_count": 26,
   "id": "df602c84-0473-4dfb-9664-8b63e5bc42b6",
   "metadata": {},
   "outputs": [
    {
     "data": {
      "text/plain": [
       "{'accuracy': [0.4049454927444458,\n",
       "  0.4926881194114685,\n",
       "  0.5386865139007568,\n",
       "  0.5546396970748901,\n",
       "  0.5737835764884949,\n",
       "  0.5902685523033142,\n",
       "  0.6046264171600342,\n",
       "  0.6035628914833069,\n",
       "  0.6163254380226135,\n",
       "  0.6383940577507019,\n",
       "  0.6391916871070862,\n",
       "  0.6530178189277649,\n",
       "  0.6612603068351746,\n",
       "  0.6788088083267212,\n",
       "  0.6889125108718872,\n",
       "  0.7091199159622192,\n",
       "  0.7370380163192749,\n",
       "  0.7338473796844482,\n",
       "  0.7668173313140869,\n",
       "  0.7745280265808105,\n",
       "  0.8112204074859619,\n",
       "  0.8277053833007812,\n",
       "  0.851369321346283,\n",
       "  0.8574846982955933,\n",
       "  0.8888593316078186,\n",
       "  0.906141996383667,\n",
       "  0.9189045429229736,\n",
       "  0.9282105565071106,\n",
       "  0.926349401473999,\n",
       "  0.9284764528274536],\n",
       " 'loss': [1.5419871807098389,\n",
       "  1.208329677581787,\n",
       "  1.1170060634613037,\n",
       "  1.0819860696792603,\n",
       "  1.0277200937271118,\n",
       "  0.9760338664054871,\n",
       "  0.9539807438850403,\n",
       "  0.9584440588951111,\n",
       "  0.9210432171821594,\n",
       "  0.8865872025489807,\n",
       "  0.8522119522094727,\n",
       "  0.8334119319915771,\n",
       "  0.7835376262664795,\n",
       "  0.7665171027183533,\n",
       "  0.7389086484909058,\n",
       "  0.7011725902557373,\n",
       "  0.6414062976837158,\n",
       "  0.6548611521720886,\n",
       "  0.5877745151519775,\n",
       "  0.5546503663063049,\n",
       "  0.48425060510635376,\n",
       "  0.43092721700668335,\n",
       "  0.37128087878227234,\n",
       "  0.36450231075286865,\n",
       "  0.2948097288608551,\n",
       "  0.26939624547958374,\n",
       "  0.22928696870803833,\n",
       "  0.20567631721496582,\n",
       "  0.19685696065425873,\n",
       "  0.18547244369983673],\n",
       " 'val_accuracy': [0.4553428888320923,\n",
       "  0.5550239086151123,\n",
       "  0.5417331457138062,\n",
       "  0.587187647819519,\n",
       "  0.612971842288971,\n",
       "  0.60047847032547,\n",
       "  0.6095162034034729,\n",
       "  0.612971842288971,\n",
       "  0.6400850415229797,\n",
       "  0.6626794338226318,\n",
       "  0.6669324636459351,\n",
       "  0.6568314433097839,\n",
       "  0.6826156377792358,\n",
       "  0.6889952421188354,\n",
       "  0.70015949010849,\n",
       "  0.7185007929801941,\n",
       "  0.7432217001914978,\n",
       "  0.7684742212295532,\n",
       "  0.7814992070198059,\n",
       "  0.8104731440544128,\n",
       "  0.8274853825569153,\n",
       "  0.8343966007232666,\n",
       "  0.8575226068496704,\n",
       "  0.8718766570091248,\n",
       "  0.8968633413314819,\n",
       "  0.891281247138977,\n",
       "  0.8527379035949707,\n",
       "  0.8992556929588318,\n",
       "  0.9016480445861816,\n",
       "  0.9263689517974854],\n",
       " 'val_loss': [1.325573444366455,\n",
       "  1.0615030527114868,\n",
       "  1.0853654146194458,\n",
       "  0.9786593914031982,\n",
       "  0.9473139643669128,\n",
       "  0.9870326519012451,\n",
       "  0.9194616675376892,\n",
       "  0.9189226627349854,\n",
       "  0.8706384897232056,\n",
       "  0.818204402923584,\n",
       "  0.8055642247200012,\n",
       "  0.7985823154449463,\n",
       "  0.7498689889907837,\n",
       "  0.7535891532897949,\n",
       "  0.7032454609870911,\n",
       "  0.6726793050765991,\n",
       "  0.622977614402771,\n",
       "  0.5558809638023376,\n",
       "  0.522498369216919,\n",
       "  0.46431267261505127,\n",
       "  0.4421848654747009,\n",
       "  0.4082815945148468,\n",
       "  0.38176122307777405,\n",
       "  0.34064406156539917,\n",
       "  0.28833603858947754,\n",
       "  0.27814555168151855,\n",
       "  0.39473116397857666,\n",
       "  0.2686111629009247,\n",
       "  0.250897616147995,\n",
       "  0.2043200582265854]}"
      ]
     },
     "execution_count": 26,
     "metadata": {},
     "output_type": "execute_result"
    }
   ],
   "source": [
    "training_history.history"
   ]
  },
  {
   "cell_type": "code",
   "execution_count": 27,
   "id": "906807b1-4c49-4189-894f-58dce1bc7b73",
   "metadata": {},
   "outputs": [],
   "source": [
    "import json\n",
    "with open(\"training_hist.json\",\"w\") as f:\n",
    "    json.dump(training_history.history,f)"
   ]
  },
  {
   "cell_type": "code",
   "execution_count": 28,
   "id": "83200c9b-bb07-4055-b364-af417cd3884b",
   "metadata": {},
   "outputs": [
    {
     "data": {
      "text/plain": [
       "[0.4049454927444458,\n",
       " 0.4926881194114685,\n",
       " 0.5386865139007568,\n",
       " 0.5546396970748901,\n",
       " 0.5737835764884949,\n",
       " 0.5902685523033142,\n",
       " 0.6046264171600342,\n",
       " 0.6035628914833069,\n",
       " 0.6163254380226135,\n",
       " 0.6383940577507019,\n",
       " 0.6391916871070862,\n",
       " 0.6530178189277649,\n",
       " 0.6612603068351746,\n",
       " 0.6788088083267212,\n",
       " 0.6889125108718872,\n",
       " 0.7091199159622192,\n",
       " 0.7370380163192749,\n",
       " 0.7338473796844482,\n",
       " 0.7668173313140869,\n",
       " 0.7745280265808105,\n",
       " 0.8112204074859619,\n",
       " 0.8277053833007812,\n",
       " 0.851369321346283,\n",
       " 0.8574846982955933,\n",
       " 0.8888593316078186,\n",
       " 0.906141996383667,\n",
       " 0.9189045429229736,\n",
       " 0.9282105565071106,\n",
       " 0.926349401473999,\n",
       " 0.9284764528274536]"
      ]
     },
     "execution_count": 28,
     "metadata": {},
     "output_type": "execute_result"
    }
   ],
   "source": [
    "training_history.history['accuracy']"
   ]
  },
  {
   "cell_type": "code",
   "execution_count": 30,
   "id": "289ced25-14e9-4c89-953c-cf5b521382c4",
   "metadata": {},
   "outputs": [
    {
     "data": {
      "image/png": "[encoded data removed]",
      "text/plain": [
       "<Figure size 640x480 with 1 Axes>"
      ]
     },
     "metadata": {},
     "output_type": "display_data"
    }
   ],
   "source": [
    "import matplotlib.pyplot as plt\n",
    "epochs=[i for i in range(1,31)]\n",
    "plt.plot(epochs,training_history.history['accuracy'],color='red',label='Training Accuracy')\n",
    "plt.plot(epochs,training_history.history['val_accuracy'],color='red',label='Validation Accuracy')\n",
    "plt.xlabel(\"no. of epochs\")\n",
    "plt.ylabel(\"Accuracy result\")\n",
    "plt.title(\"visualization of accuracy result\")\n",
    "plt.legend()\n",
    "plt.show()"
   ]
  },
  {
   "cell_type": "code",
   "execution_count": 31,
   "id": "538a601f-b8dc-4f38-8171-ce12780ee9dd",
   "metadata": {},
   "outputs": [
    {
     "data": {
      "text/plain": [
       "['Healthy rice',\n",
       " '_BrownSpot',\n",
       " '_Healthy rice',\n",
       " '_Hispa',\n",
       " '_LeafBlast',\n",
       " 'septoria',\n",
       " 'stripe_rust']"
      ]
     },
     "execution_count": 31,
     "metadata": {},
     "output_type": "execute_result"
    }
   ],
   "source": [
    "class_name=validation_set.class_names\n",
    "class_name"
   ]
  },
  {
   "cell_type": "code",
   "execution_count": 33,
   "id": "c9d9690b-4e44-4122-a260-1e02c12d6ce2",
   "metadata": {},
   "outputs": [
    {
     "name": "stdout",
     "output_type": "stream",
     "text": [
      "Found 3762 files belonging to 7 classes.\n"
     ]
    }
   ],
   "source": [
    "test_set=tf.keras.utils.image_dataset_from_directory(\n",
    "    \"valid\",\n",
    "    labels=\"inferred\",\n",
    "    label_mode=\"categorical\",\n",
    "    class_names=None,\n",
    "    color_mode=\"rgb\",\n",
    "    batch_size=32,\n",
    "    image_size=(128,128),\n",
    "    shuffle=False,\n",
    "    seed=None,\n",
    "    validation_split=None,\n",
    "    subset=None,\n",
    "    interpolation=\"bilinear\",\n",
    "    follow_links=False,\n",
    "    crop_to_aspect_ratio=False,\n",
    ")"
   ]
  },
  {
   "cell_type": "code",
   "execution_count": 34,
   "id": "da55eee0-3e41-4569-ae5f-20c9348edf99",
   "metadata": {},
   "outputs": [
    {
     "name": "stdout",
     "output_type": "stream",
     "text": [
      "\u001b[1m118/118\u001b[0m \u001b[32m━━━━━━━━━━━━━━━━━━━━\u001b[0m\u001b[37m\u001b[0m \u001b[1m82s\u001b[0m 658ms/step\n"
     ]
    },
    {
     "data": {
      "text/plain": [
       "(array([[9.8461491e-01, 1.2497526e-05, 3.2937592e-03, ..., 7.5874314e-06,\n",
       "         1.0976178e-02, 1.0181117e-03],\n",
       "        [9.9217939e-01, 1.0712199e-06, 5.1573767e-07, ..., 1.0060387e-06,\n",
       "         6.2479484e-07, 7.8171855e-03],\n",
       "        [9.9984515e-01, 5.4413245e-08, 2.4500375e-06, ..., 7.4942014e-05,\n",
       "         2.8200790e-07, 7.4766336e-05],\n",
       "        ...,\n",
       "        [3.1240196e-18, 2.4313423e-14, 1.4527127e-22, ..., 4.2360944e-15,\n",
       "         1.0117882e-14, 1.0000000e+00],\n",
       "        [1.8831000e-07, 3.1256256e-12, 5.8316596e-15, ..., 1.6150157e-12,\n",
       "         1.8669686e-13, 9.9999976e-01],\n",
       "        [2.2024597e-13, 4.0178490e-12, 4.1915167e-17, ..., 6.7236716e-14,\n",
       "         6.7793800e-14, 1.0000000e+00]], dtype=float32),\n",
       " (3762, 7))"
      ]
     },
     "execution_count": 34,
     "metadata": {},
     "output_type": "execute_result"
    }
   ],
   "source": [
    "y_pred=model.predict(test_set)\n",
    "y_pred,y_pred.shape"
   ]
  },
  {
   "cell_type": "code",
   "execution_count": 35,
   "id": "dbe7022c-4d1d-4a30-8d06-cc8c32d49f6e",
   "metadata": {},
   "outputs": [],
   "source": [
    "predicted_categories=tf.argmax(y_pred,axis=1)"
   ]
  },
  {
   "cell_type": "code",
   "execution_count": 36,
   "id": "758996d5-9317-40fd-b7ce-e7915de10175",
   "metadata": {},
   "outputs": [
    {
     "data": {
      "text/plain": [
       "<tf.Tensor: shape=(3762,), dtype=int64, numpy=array([0, 0, 0, ..., 6, 6, 6], dtype=int64)>"
      ]
     },
     "execution_count": 36,
     "metadata": {},
     "output_type": "execute_result"
    }
   ],
   "source": [
    "predicted_categories"
   ]
  },
  {
   "cell_type": "code",
   "execution_count": 37,
   "id": "0ad1c828-46fb-4f87-8d67-b788d00fed31",
   "metadata": {},
   "outputs": [
    {
     "data": {
      "text/plain": [
       "<tf.Tensor: shape=(3762, 7), dtype=float32, numpy=\n",
       "array([[1., 0., 0., ..., 0., 0., 0.],\n",
       "       [1., 0., 0., ..., 0., 0., 0.],\n",
       "       [1., 0., 0., ..., 0., 0., 0.],\n",
       "       ...,\n",
       "       [0., 0., 0., ..., 0., 0., 1.],\n",
       "       [0., 0., 0., ..., 0., 0., 1.],\n",
       "       [0., 0., 0., ..., 0., 0., 1.]], dtype=float32)>"
      ]
     },
     "execution_count": 37,
     "metadata": {},
     "output_type": "execute_result"
    }
   ],
   "source": [
    "true_categories=tf.concat([y for x,y in test_set],axis=0)\n",
    "true_categories"
   ]
  },
  {
   "cell_type": "code",
   "execution_count": 38,
   "id": "c47c9561-e7fb-4eaa-82ca-fae4997b3138",
   "metadata": {},
   "outputs": [
    {
     "data": {
      "text/plain": [
       "<tf.Tensor: shape=(3762,), dtype=int64, numpy=array([0, 0, 0, ..., 6, 6, 6], dtype=int64)>"
      ]
     },
     "execution_count": 38,
     "metadata": {},
     "output_type": "execute_result"
    }
   ],
   "source": [
    "Y_true=tf.argmax(true_categories,axis=1)\n",
    "Y_true"
   ]
  },
  {
   "cell_type": "code",
   "execution_count": 39,
   "id": "5c8931a5-d26f-4432-a6fa-031f6d8bbef2",
   "metadata": {},
   "outputs": [
    {
     "name": "stdout",
     "output_type": "stream",
     "text": [
      "Requirement already satisfied: scikit-learn in c:\\users\\ananya\\documents\\anaconda\\lib\\site-packages (1.4.1.post1)\n",
      "Requirement already satisfied: numpy<2.0,>=1.19.5 in c:\\users\\ananya\\documents\\anaconda\\lib\\site-packages (from scikit-learn) (1.26.4)\n",
      "Requirement already satisfied: scipy>=1.6.0 in c:\\users\\ananya\\documents\\anaconda\\lib\\site-packages (from scikit-learn) (1.12.0)\n",
      "Requirement already satisfied: joblib>=1.2.0 in c:\\users\\ananya\\documents\\anaconda\\lib\\site-packages (from scikit-learn) (1.3.2)\n",
      "Requirement already satisfied: threadpoolctl>=2.0.0 in c:\\users\\ananya\\documents\\anaconda\\lib\\site-packages (from scikit-learn) (3.4.0)\n"
     ]
    }
   ],
   "source": [
    "!pip install scikit-learn"
   ]
  },
  {
   "cell_type": "code",
   "execution_count": 40,
   "id": "3614f7fb-32da-42a6-bbfd-b1b468338b14",
   "metadata": {},
   "outputs": [],
   "source": [
    "from sklearn.metrics import classification_report"
   ]
  },
  {
   "cell_type": "code",
   "execution_count": 41,
   "id": "af47e071-7323-4d63-8cee-69f37263666a",
   "metadata": {},
   "outputs": [
    {
     "name": "stdout",
     "output_type": "stream",
     "text": [
      "               precision    recall  f1-score   support\n",
      "\n",
      " Healthy rice       0.99      1.00      1.00       102\n",
      "   _BrownSpot       0.91      0.97      0.94       523\n",
      "_Healthy rice       0.90      0.96      0.93      1488\n",
      "       _Hispa       0.95      0.77      0.85       565\n",
      "   _LeafBlast       0.95      0.91      0.93       779\n",
      "     septoria       1.00      0.98      0.99        97\n",
      "  stripe_rust       1.00      1.00      1.00       208\n",
      "\n",
      "     accuracy                           0.93      3762\n",
      "    macro avg       0.96      0.94      0.95      3762\n",
      " weighted avg       0.93      0.93      0.93      3762\n",
      "\n"
     ]
    }
   ],
   "source": [
    "print(classification_report(Y_true,predicted_categories,target_names=class_name))"
   ]
  },
  {
   "cell_type": "code",
   "execution_count": 42,
   "id": "70cf88fe-3123-42d4-b327-8b4bbd4732b8",
   "metadata": {},
   "outputs": [
    {
     "data": {
      "text/plain": [
       "(7, 7)"
      ]
     },
     "execution_count": 42,
     "metadata": {},
     "output_type": "execute_result"
    }
   ],
   "source": [
    "from sklearn.metrics import confusion_matrix\n",
    "cm= confusion_matrix(Y_true,predicted_categories)\n",
    "cm.shape"
   ]
  },
  {
   "cell_type": "code",
   "execution_count": 43,
   "id": "31f7a2f5-09fc-4d16-a74a-07050c7ee56d",
   "metadata": {},
   "outputs": [
    {
     "data": {
      "image/png": "[encoded data removed]",
      "text/plain": [
       "<Figure size 4000x4000 with 2 Axes>"
      ]
     },
     "metadata": {},
     "output_type": "display_data"
    }
   ],
   "source": [
    "plt.figure(figsize=(40,40))\n",
    "sns.heatmap(cm,annot=True,annot_kws={'size':10})\n",
    "plt.xlabel(\"predicted class\",fontsize=20)\n",
    "plt.ylabel(\"actual class\",fontsize=20)\n",
    "plt.title(\"crop disease prediction confusion matrix\",fontsize=25)\n",
    "plt.show()"
   ]
  },
  {
   "cell_type": "code",
   "execution_count": null,
   "id": "3bf9dc68-2425-4ea4-9736-444c1278bcfc",
   "metadata": {},
   "outputs": [],
   "source": []
  }
 ],
 "metadata": {
  "kernelspec": {
   "display_name": "Python 3 (ipykernel)",
   "language": "python",
   "name": "python3"
  },
  "language_info": {
   "codemirror_mode": {
    "name": "ipython",
    "version": 3
   },
   "file_extension": ".py",
   "mimetype": "text/x-python",
   "name": "python",
   "nbconvert_exporter": "python",
   "pygments_lexer": "ipython3",
   "version": "3.12.1"
  }
 },
 "nbformat": 4,
 "nbformat_minor": 5
}
